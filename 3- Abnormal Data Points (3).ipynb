{
  "nbformat": 4,
  "nbformat_minor": 0,
  "metadata": {
    "colab": {
      "name": "3_Abnormal_Data_Points.ipynb",
      "provenance": []
    },
    "kernelspec": {
      "name": "python3",
      "display_name": "Python 3"
    },
    "language_info": {
      "name": "python"
    }
  },
  "cells": [
    {
      "cell_type": "markdown",
      "metadata": {
        "id": "2O_q0mQb_IzV"
      },
      "source": [
        "# **B. ABNORMAL POINTS**\n",
        "\n",
        "---\n",
        "\n",
        "\n",
        "\n",
        "> How to detect and deal with abnormal points.\n",
        "\n",
        "\n"
      ]
    },
    {
      "cell_type": "markdown",
      "source": [
        "**STEP 1. LIBRARIES**\n",
        "\n",
        "---\n",
        "\n"
      ],
      "metadata": {
        "id": "3i5UEzO5ClJA"
      }
    },
    {
      "cell_type": "code",
      "execution_count": null,
      "metadata": {
        "id": "IwlRk0p4kO6x"
      },
      "outputs": [],
      "source": [
        "# import libraries\n",
        "\n",
        "\n"
      ]
    },
    {
      "cell_type": "markdown",
      "source": [
        "**STEP 2. DATA**\n",
        "\n",
        "---\n",
        "\n"
      ],
      "metadata": {
        "id": "cjzA4F3lDR1J"
      }
    },
    {
      "cell_type": "code",
      "source": [
        "# import \"weight-height.csv\" \n"
      ],
      "metadata": {
        "id": "k9qoq8wUw_g5"
      },
      "execution_count": null,
      "outputs": []
    },
    {
      "cell_type": "code",
      "source": [
        "# read data\n"
      ],
      "metadata": {
        "id": "VIOkhMgOlEnQ"
      },
      "execution_count": null,
      "outputs": []
    },
    {
      "cell_type": "code",
      "source": [
        "# show data\n"
      ],
      "metadata": {
        "id": "jHKHTkN2xBli"
      },
      "execution_count": null,
      "outputs": []
    },
    {
      "cell_type": "code",
      "source": [
        "# for quick descriptive statistics\n"
      ],
      "metadata": {
        "id": "S1lU2kfQxDnq"
      },
      "execution_count": null,
      "outputs": []
    },
    {
      "cell_type": "markdown",
      "source": [
        "**STEP 3. ABNORMAL POINTS DETECTION**\n",
        "\n",
        "---\n",
        "\n"
      ],
      "metadata": {
        "id": "XjLWz9iJKqCz"
      }
    },
    {
      "cell_type": "markdown",
      "source": [
        "**1. GRAPHICAL DETECTION**\n",
        "\n",
        "\n"
      ],
      "metadata": {
        "id": "6yE-0BkwMm3b"
      }
    },
    {
      "cell_type": "code",
      "source": [
        "# libraries\n",
        "\n"
      ],
      "metadata": {
        "id": "lft05UNGM1bt"
      },
      "execution_count": null,
      "outputs": []
    },
    {
      "cell_type": "code",
      "source": [
        "# boxplot\n"
      ],
      "metadata": {
        "id": "2kdacGsMxG5T"
      },
      "execution_count": null,
      "outputs": []
    },
    {
      "cell_type": "markdown",
      "source": [
        "\n",
        "\n",
        "---\n",
        "\n"
      ],
      "metadata": {
        "id": "pQ1SplxrNDvE"
      }
    },
    {
      "cell_type": "code",
      "source": [
        "# used to specify the number of bins (optional)\n",
        "\n",
        "# histogram\n"
      ],
      "metadata": {
        "id": "56osnNulxLHi"
      },
      "execution_count": null,
      "outputs": []
    },
    {
      "cell_type": "markdown",
      "source": [
        "\n",
        "\n",
        "---\n",
        "\n"
      ],
      "metadata": {
        "id": "r8XsLxQSNXXs"
      }
    },
    {
      "cell_type": "code",
      "source": [
        "# specify the variables on the x axis\n",
        "# specify the variables on the y axis\n",
        "\n",
        "# scatter plot\n"
      ],
      "metadata": {
        "id": "8xNlaGQHxNH2"
      },
      "execution_count": null,
      "outputs": []
    },
    {
      "cell_type": "markdown",
      "source": [
        "\n",
        "\n",
        "---\n",
        "\n"
      ],
      "metadata": {
        "id": "X0PC7Fo1NsHi"
      }
    },
    {
      "cell_type": "markdown",
      "source": [
        "**2. MATHEMATICAL DETECTION**\n",
        "\n",
        "\n"
      ],
      "metadata": {
        "id": "3pAJD84oDlNA"
      }
    },
    {
      "cell_type": "code",
      "source": [
        "# STEP 1. QUARTILES\n",
        "# to compute the first quartile\n",
        "\n",
        "# to compute the third quartile\n",
        "\n",
        "# to display the computed quartiles\n"
      ],
      "metadata": {
        "id": "vfY7QSLSxSBy"
      },
      "execution_count": null,
      "outputs": []
    },
    {
      "cell_type": "code",
      "source": [
        "# STEP 2. INTERQUARTILE RANGE\n",
        "# to compute the interquartile\n",
        "\n",
        "# to display the computed interquartile\n"
      ],
      "metadata": {
        "id": "eXvvo-m0x-NO"
      },
      "execution_count": null,
      "outputs": []
    },
    {
      "cell_type": "code",
      "source": [
        "# STEP 3. LIMITS\n",
        "# to compute the lower limit\n",
        "\n",
        "# to compute the upper limit\n",
        "\n",
        "# to display the computed limits\n"
      ],
      "metadata": {
        "id": "ZuGIboJbxitp"
      },
      "execution_count": null,
      "outputs": []
    },
    {
      "cell_type": "code",
      "source": [
        "# STEP 4. ABNORMAL POINTS DETECTION\n",
        "# to display points located outside the limits"
      ],
      "metadata": {
        "id": "5AhnzvA-xpUX"
      },
      "execution_count": null,
      "outputs": []
    },
    {
      "cell_type": "markdown",
      "source": [
        "\n",
        "\n",
        "---\n",
        "\n"
      ],
      "metadata": {
        "id": "yQkoyHLHNube"
      }
    },
    {
      "cell_type": "markdown",
      "source": [
        "**STEP 4. ABNORMAL POINTS TREATMENT**\n",
        "\n",
        "---\n",
        "\n"
      ],
      "metadata": {
        "id": "QbpamsoIDexY"
      }
    },
    {
      "cell_type": "markdown",
      "source": [
        "**1. OBSERVATION REMOVAL**\n",
        "\n",
        "\n"
      ],
      "metadata": {
        "id": "VTyHBmqvODRZ"
      }
    },
    {
      "cell_type": "code",
      "source": [
        "# STEP 5. ABNORMAL POINTS REMOVAL\n",
        "# to create a new dataset with only values within the limits\n",
        "# \"no_ab\" stands for \"no abnormal\"\n",
        "\n"
      ],
      "metadata": {
        "id": "9MvDffV-xtFS"
      },
      "execution_count": null,
      "outputs": []
    },
    {
      "cell_type": "markdown",
      "source": [
        "\n",
        "\n",
        "---\n",
        "\n"
      ],
      "metadata": {
        "id": "Jc9mExlE1eex"
      }
    },
    {
      "cell_type": "markdown",
      "source": [
        "**2. ABNORMAL POINTS MODIFICATION**\n",
        "\n",
        "\n"
      ],
      "metadata": {
        "id": "G-o1JMkuODfA"
      }
    },
    {
      "cell_type": "code",
      "source": [
        "# dataset before any transformation\n"
      ],
      "metadata": {
        "id": "-LtfM0dAxwYm"
      },
      "execution_count": null,
      "outputs": []
    },
    {
      "cell_type": "code",
      "source": [
        "# number of missing values per variable BEFORE abnormal points' removal\n"
      ],
      "metadata": {
        "id": "PHRkm6W5xzmC"
      },
      "execution_count": null,
      "outputs": []
    },
    {
      "cell_type": "markdown",
      "source": [
        "\n",
        "\n",
        "---\n",
        "\n"
      ],
      "metadata": {
        "id": "zPSdNTnFpw3J"
      }
    },
    {
      "cell_type": "code",
      "source": [
        "# remove abnormal points and report the empty cells as missing values\n"
      ],
      "metadata": {
        "id": "YypQw0Klx1T7"
      },
      "execution_count": null,
      "outputs": []
    },
    {
      "cell_type": "code",
      "source": [
        "# number of missing values per variable AFTER abnormal points' removal\n"
      ],
      "metadata": {
        "id": "WBve4-gkx3vr"
      },
      "execution_count": null,
      "outputs": []
    },
    {
      "cell_type": "markdown",
      "source": [
        "\n",
        "\n",
        "---\n",
        "\n"
      ],
      "metadata": {
        "id": "42KaMFWNpzKD"
      }
    },
    {
      "cell_type": "code",
      "source": [
        "# STEP 6. MISSING VALUES' IMPUTATION\n"
      ],
      "metadata": {
        "id": "fnijk_uckxCl"
      },
      "execution_count": null,
      "outputs": []
    },
    {
      "cell_type": "code",
      "source": [
        "# number of missing values per variable AFTER missing values' removal\n"
      ],
      "metadata": {
        "id": "tYrp_oxLx6TV"
      },
      "execution_count": null,
      "outputs": []
    },
    {
      "cell_type": "markdown",
      "source": [
        "\n",
        "\n",
        "---\n",
        "\n"
      ],
      "metadata": {
        "id": "pHeqazWRp1f5"
      }
    },
    {
      "cell_type": "markdown",
      "metadata": {
        "id": "XNYkduwfqQLn"
      },
      "source": [
        "# Good Job !"
      ]
    }
  ]
}